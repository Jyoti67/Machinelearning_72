{
  "nbformat": 4,
  "nbformat_minor": 0,
  "metadata": {
    "colab": {
      "provenance": [],
      "include_colab_link": true
    },
    "kernelspec": {
      "name": "python3",
      "display_name": "Python 3"
    },
    "language_info": {
      "name": "python"
    }
  },
  "cells": [
    {
      "cell_type": "markdown",
      "metadata": {
        "id": "view-in-github",
        "colab_type": "text"
      },
      "source": [
        "<a href=\"https://colab.research.google.com/github/Jyoti67/Machinelearning_72/blob/main/Jyotibhowmick_72.ipynb\" target=\"_parent\"><img src=\"https://colab.research.google.com/assets/colab-badge.svg\" alt=\"Open In Colab\"/></a>"
      ]
    },
    {
      "cell_type": "code",
      "execution_count": 1,
      "metadata": {
        "id": "SpUwfGWw21vx",
        "colab": {
          "base_uri": "https://localhost:8080/"
        },
        "outputId": "59d1b4b8-b7e1-4ba2-ad41-f5ca3115cab1"
      },
      "outputs": [
        {
          "output_type": "stream",
          "name": "stdout",
          "text": [
            "Car: Toyota Corolla (2022)\n",
            "Car: Tesla Model S (2023)\n"
          ]
        }
      ],
      "source": [
        "# Defining a class\n",
        "class Car:\n",
        "    # Constructor (__init__ method)\n",
        "    def __init__(self, brand, model, year):\n",
        "        self.brand = brand  # Attribute\n",
        "        self.model = model  # Attribute\n",
        "        self.year = year    # Attribute\n",
        "\n",
        "    # Method to display car details\n",
        "    def display_info(self):\n",
        "        print(f\"Car: {self.brand} {self.model} ({self.year})\")\n",
        "\n",
        "# Creating objects of the Car class\n",
        "car1 = Car(\"Toyota\", \"Corolla\", 2022)\n",
        "car2 = Car(\"Tesla\", \"Model S\", 2023)\n",
        "\n",
        "# Accessing methods and attributes\n",
        "car1.display_info()  # Output: Car: Toyota Corolla (2022)\n",
        "car2.display_info()  # Output: Car: Tesla Model S (2023)\n"
      ]
    },
    {
      "cell_type": "code",
      "source": [
        "class Employee:\n",
        "    def __init__(self, name, salary):\n",
        "        self.name = name\n",
        "        self.salary = salary\n",
        "\n",
        "    def get_annual_salary(self):\n",
        "        return self.salary * 12\n",
        "\n",
        "# Creating an object\n",
        "emp = Employee(\"John\", 5000)\n",
        "\n",
        "print(f\"Annual Salary of {emp.name}: {emp.get_annual_salary()}\")\n"
      ],
      "metadata": {
        "id": "MALFoGl73VaA",
        "colab": {
          "base_uri": "https://localhost:8080/"
        },
        "outputId": "edfe3a0a-9267-43aa-9793-8cc4519494b1"
      },
      "execution_count": 2,
      "outputs": [
        {
          "output_type": "stream",
          "name": "stdout",
          "text": [
            "Annual Salary of John: 60000\n"
          ]
        }
      ]
    },
    {
      "cell_type": "code",
      "source": [
        "class Student:\n",
        "    def __init__(self, name, age, marks):\n",
        "        self.name = name\n",
        "        self.age = age\n",
        "        self.marks = marks\n",
        "\n",
        "    def display(self):\n",
        "        print(f\"Name: {self.name}, Age: {self.age}, Marks: {self.marks}\")\n",
        "\n",
        "# List of students\n",
        "students = [\n",
        "    Student(\"Alice\", 20, 85),\n",
        "    Student(\"Bob\", 21, 90),\n",
        "    Student(\"Charlie\", 22, 88)\n",
        "]\n",
        "\n",
        "# Loop to display details\n",
        "for student in students:\n",
        "    student.display()\n"
      ],
      "metadata": {
        "colab": {
          "base_uri": "https://localhost:8080/"
        },
        "id": "cjnB-4Pd4vVk",
        "outputId": "5ae82373-6e6e-414b-c47e-a8307ce370de"
      },
      "execution_count": 3,
      "outputs": [
        {
          "output_type": "stream",
          "name": "stdout",
          "text": [
            "Name: Alice, Age: 20, Marks: 85\n",
            "Name: Bob, Age: 21, Marks: 90\n",
            "Name: Charlie, Age: 22, Marks: 88\n"
          ]
        }
      ]
    },
    {
      "cell_type": "markdown",
      "source": [
        "https://tinyurl.com/classinpy"
      ],
      "metadata": {
        "id": "o1bzyke8GK3S"
      }
    },
    {
      "cell_type": "code",
      "source": [
        "class Store:\n",
        "    def __init__(self):\n",
        "        self.inventory = {}\n",
        "\n",
        "    def add_product(self, name, price):\n",
        "        self.inventory[name] = price\n",
        "\n",
        "    def display_products(self):\n",
        "        for product, price in self.inventory.items():\n",
        "            print(f\"Product: {product}, Price: {price}\")\n",
        "\n",
        "# Creating Store object\n",
        "shop = Store()\n",
        "shop.add_product(\"Laptop\", 50000)\n",
        "shop.add_product(\"Mouse\", 1000)\n",
        "shop.add_product(\"Keyboard\", 1500)\n",
        "\n",
        "# Display products\n",
        "shop.display_products()\n"
      ],
      "metadata": {
        "id": "82PRpeDH7lWT",
        "colab": {
          "base_uri": "https://localhost:8080/"
        },
        "outputId": "265507b0-84a1-40d2-8982-ccd07d968ae8"
      },
      "execution_count": 4,
      "outputs": [
        {
          "output_type": "stream",
          "name": "stdout",
          "text": [
            "Product: Laptop, Price: 50000\n",
            "Product: Mouse, Price: 1000\n",
            "Product: Keyboard, Price: 1500\n"
          ]
        }
      ]
    },
    {
      "cell_type": "markdown",
      "source": [],
      "metadata": {
        "id": "EoYy_wugGKKy"
      }
    },
    {
      "cell_type": "code",
      "source": [
        "class Fruit:\n",
        "    def __init__(self, name, color, taste):\n",
        "        self.name = name\n",
        "        self.color = color\n",
        "        self.taste = taste\n",
        "\n",
        "# Dictionary of employees\n",
        "fruit = {\n",
        "    101: Fruit(\"Apple\",\"Red\", \"sweet\"),\n",
        "    102: Fruit(\"Graps\", \"Green\",\"sour\"),\n",
        "    103: Fruit(\"Banana\",\"Yellow\", \"sweet\")\n",
        "}\n",
        "\n",
        "# Display employee details\n",
        "for emp_id, f in fruit.items():\n",
        "    print(f\"Name: {f.name}, Color: {f.color}, Taste: {f.taste}\")\n"
      ],
      "metadata": {
        "colab": {
          "base_uri": "https://localhost:8080/"
        },
        "id": "P4L76Lef6jkp",
        "outputId": "de389577-16a6-41ad-b3fa-eb7300822407"
      },
      "execution_count": 7,
      "outputs": [
        {
          "output_type": "stream",
          "name": "stdout",
          "text": [
            "Name: Apple, Color: Red, Taste: sweet\n",
            "Name: Graps, Color: Green, Taste: sour\n",
            "Name: Banana, Color: Yellow, Taste: sweet\n"
          ]
        }
      ]
    }
  ]
}